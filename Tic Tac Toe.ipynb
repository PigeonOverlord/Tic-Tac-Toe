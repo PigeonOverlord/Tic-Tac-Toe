{
 "cells": [
  {
   "cell_type": "code",
   "execution_count": 13,
   "metadata": {},
   "outputs": [],
   "source": [
    "\n",
    "# Display Function\n",
    "\n",
    "from IPython.display import clear_output\n",
    "\n",
    "def display(board):\n",
    "    clear_output()\n",
    "\n",
    "    print('[ '+board[1]+' ]'+'[ '+board[2]+' ]'+'[ '+board[3]+' ]')\n",
    "    print('[ '+board[4]+' ]'+'[ '+board[5]+' ]'+'[ '+board[6]+' ]')\n",
    "    print('[ '+board[7]+' ]'+'[ '+board[8]+' ]'+'[ '+board[9]+' ]')\n",
    "\n",
    "          #   1   2   3   4   5   6   7   8   9\n",
    "board = ['#',' ',' ',' ',' ',' ',' ',' ',' ',' ']\n",
    "\n",
    "\n",
    "#Player select function\n",
    "\n",
    "def player_selection():\n",
    "    marker = ''\n",
    "\n",
    "    while marker != 'X' and marker != 'O':\n",
    "        marker = input ('Player 1, choose X or O:')\n",
    "        \n",
    "        if marker == 'X':\n",
    "            player1 = 'X'\n",
    "        else:\n",
    "            player2 = 'O'\n",
    "                \n",
    "    return (player1,player2)\n",
    "\n",
    "\n",
    "#Who goes first function\n",
    "\n",
    "import random\n",
    "\n",
    "def goes_first():\n",
    "    if random.randint(0, 1) == 0:\n",
    "        return 'Player 1'\n",
    "    else:\n",
    "        return 'Player 2'\n",
    "\n",
    "\n",
    "#Player 1 Turn\n",
    "\n",
    "def place_marker1():\n",
    "    \n",
    "        # initial\n",
    "        choice = 'WRONG'\n",
    "        acceptable_range = range(0,10)\n",
    "        within_range = False\n",
    "\n",
    "        #Three condiitions to check\n",
    "        #Digit, Range check and Occupied check\n",
    "       \n",
    "\n",
    "        while choice.isdigit() == False or within_range == False:\n",
    "\n",
    "            choice = input('Please enter a number (0-9):')\n",
    "\n",
    "            #Digit check\n",
    "            if choice.isdigit() == False:\n",
    "                print('Sorry that is not a digit')\n",
    "\n",
    "            #Range Check\n",
    "            if choice.isdigit() == True:\n",
    "                if int(choice) in acceptable_range:\n",
    "                    within_range = True\n",
    "                else:\n",
    "                    within_range = False\n",
    "                    print('Sorry, please select a number between 0-10')\n",
    "            \n",
    "            #Occupied square check\n",
    "            if board[int(choice)] == ' ':\n",
    "                    board[int(choice)] = player1_marker\n",
    "            else:\n",
    "                within_range = False\n",
    "                print('Sorry, that space is occupied')\n",
    "\n",
    "    #Player 2 Turn\n",
    "\n",
    "def place_marker2():\n",
    "    \n",
    "         \n",
    "        # initial\n",
    "        choice = 'WRONG'\n",
    "        acceptable_range = range(0,10)\n",
    "        within_range = False\n",
    "\n",
    "        #Three condiitions to check\n",
    "        #Digit, Range check and Occupied check\n",
    "        \n",
    "\n",
    "        while choice.isdigit() == False or within_range == False:\n",
    "\n",
    "            choice = input('Please enter a number (0-9):')\n",
    "\n",
    "            #Digit check\n",
    "            if choice.isdigit() == False:\n",
    "                print('Sorry that is not a digit')\n",
    "\n",
    "            #Range Check\n",
    "            if choice.isdigit() == True:\n",
    "                if int(choice) in acceptable_range:\n",
    "                    within_range = True\n",
    "                else:\n",
    "                    within_range = False\n",
    "                    print('Sorry, please select a number between 0-9')\n",
    "            \n",
    "            #Occupied square check\n",
    "            if board[int(choice)] == ' ':\n",
    "                    board[int(choice)] = player2_marker\n",
    "            else:\n",
    "                within_range = False\n",
    "                print('Sorry, that space is occupied')\n",
    "        \n",
    "#Game win check\n",
    "\n",
    "def game_win(board):\n",
    "\n",
    "    column_1 = board[1]\n",
    "    column_2 = board[2]\n",
    "    column_3 = board[3]\n",
    "    column_4 = board[4]\n",
    "    column_5 = board[5]\n",
    "    column_6 = board[6]\n",
    "    column_7 = board[7]\n",
    "    column_8 = board[8]\n",
    "    column_9 = board[9]\n",
    "\n",
    "    #Horizontal\n",
    "    if column_1 == column_2 == column_3 != ' ' or column_4 == column_5 == column_6 != ' ' or column_7 == column_8 == column_9 != ' ':\n",
    "        return True\n",
    "     #Vertical\n",
    "    if column_1 == column_4 == column_7 != ' ' or column_2 == column_5 == column_8 != ' ' or column_3 == column_6 == column_9 != ' ':\n",
    "        return True\n",
    "    #Diagonal\n",
    "    if column_1 == column_5 == column_9 != ' ' or column_3 == column_5 == column_7 != ' ':\n",
    "        return True\n",
    "    else:\n",
    "        return False   \n",
    "\n",
    "#Board full check\n",
    "\n",
    "def board_check(board):\n",
    "    board_full = False\n",
    "    if ' ' not in board:\n",
    "        board_full = True\n",
    "        print('GAME OVER! its a draw')\n",
    "        again = input('Do you want to play again? Y or N?')\n",
    "        if again == 'Y':\n",
    "            return True\n",
    "        else:\n",
    "            return False\n",
    "    else:\n",
    "        return False\n",
    "\n",
    "    #Replay check\n",
    "\n",
    "def replay():\n",
    "    \n",
    "    return input('Do you want to play again? Enter Yes or No: ').lower().startswith('y')\n",
    "        \n"
   ]
  },
  {
   "cell_type": "code",
   "execution_count": 15,
   "metadata": {
    "tags": []
   },
   "outputs": [
    {
     "name": "stdout",
     "output_type": "stream",
     "text": [
      "Player 1 will go first.\n"
     ]
    },
    {
     "ename": "UnboundLocalError",
     "evalue": "local variable 'player2' referenced before assignment",
     "output_type": "error",
     "traceback": [
      "\u001b[1;31m---------------------------------------------------------------------------\u001b[0m",
      "\u001b[1;31mUnboundLocalError\u001b[0m                         Traceback (most recent call last)",
      "\u001b[1;32m<ipython-input-15-2cdecb315049>\u001b[0m in \u001b[0;36m<module>\u001b[1;34m\u001b[0m\n\u001b[0;32m      7\u001b[0m         \u001b[0mturn\u001b[0m \u001b[1;33m=\u001b[0m \u001b[0mgoes_first\u001b[0m\u001b[1;33m(\u001b[0m\u001b[1;33m)\u001b[0m\u001b[1;33m\u001b[0m\u001b[1;33m\u001b[0m\u001b[0m\n\u001b[0;32m      8\u001b[0m         \u001b[0mprint\u001b[0m\u001b[1;33m(\u001b[0m\u001b[0mturn\u001b[0m \u001b[1;33m+\u001b[0m \u001b[1;34m' will go first.'\u001b[0m\u001b[1;33m)\u001b[0m\u001b[1;33m\u001b[0m\u001b[1;33m\u001b[0m\u001b[0m\n\u001b[1;32m----> 9\u001b[1;33m         \u001b[0mplayer1_marker\u001b[0m\u001b[1;33m,\u001b[0m \u001b[0mplayer2_marker\u001b[0m \u001b[1;33m=\u001b[0m \u001b[0mplayer_selection\u001b[0m\u001b[1;33m(\u001b[0m\u001b[1;33m)\u001b[0m\u001b[1;33m\u001b[0m\u001b[1;33m\u001b[0m\u001b[0m\n\u001b[0m\u001b[0;32m     10\u001b[0m \u001b[1;33m\u001b[0m\u001b[0m\n\u001b[0;32m     11\u001b[0m \u001b[1;33m\u001b[0m\u001b[0m\n",
      "\u001b[1;32m<ipython-input-13-861d0f1e1b62>\u001b[0m in \u001b[0;36mplayer_selection\u001b[1;34m()\u001b[0m\n\u001b[0;32m     27\u001b[0m             \u001b[0mplayer2\u001b[0m \u001b[1;33m=\u001b[0m \u001b[1;34m'O'\u001b[0m\u001b[1;33m\u001b[0m\u001b[1;33m\u001b[0m\u001b[0m\n\u001b[0;32m     28\u001b[0m \u001b[1;33m\u001b[0m\u001b[0m\n\u001b[1;32m---> 29\u001b[1;33m     \u001b[1;32mreturn\u001b[0m \u001b[1;33m(\u001b[0m\u001b[0mplayer1\u001b[0m\u001b[1;33m,\u001b[0m\u001b[0mplayer2\u001b[0m\u001b[1;33m)\u001b[0m\u001b[1;33m\u001b[0m\u001b[1;33m\u001b[0m\u001b[0m\n\u001b[0m\u001b[0;32m     30\u001b[0m \u001b[1;33m\u001b[0m\u001b[0m\n\u001b[0;32m     31\u001b[0m \u001b[1;33m\u001b[0m\u001b[0m\n",
      "\u001b[1;31mUnboundLocalError\u001b[0m: local variable 'player2' referenced before assignment"
     ]
    }
   ],
   "source": [
    "\n",
    "while True:\n",
    "\n",
    "    play_game = input('Are you ready to play? Enter Yes or No.')\n",
    "\n",
    "    if play_game.lower()[0] == 'y':\n",
    "        game_on = True\n",
    "        turn = goes_first()\n",
    "        print(turn + ' will go first.')\n",
    "        player1_marker, player2_marker = player_selection()\n",
    "        \n",
    "\n",
    "        board = ['#',' ',' ',' ',' ',' ',' ',' ',' ',' ']\n",
    "\n",
    "    else:\n",
    "        game_on = False\n",
    "        break\n",
    "        \n",
    "        #Player 1 Turn\n",
    "while game_on:\n",
    "    if turn == 'Player 1':      \n",
    "        display(board)\n",
    "        place_marker1()\n",
    "\n",
    "        if game_win(board):\n",
    "            display(board)\n",
    "            print('Player 1 is the WINNER!')\n",
    "            game_on = False\n",
    "\n",
    "        else:           \n",
    "            if board_check(board):\n",
    "                display(board)\n",
    "                print('Its a draw! GAME OVER!')\n",
    "            else:\n",
    "                turn = 'Player 2'\n",
    "        \n",
    "        #Player 2 Turn\n",
    "    else:\n",
    "        if turn == 'Player 2': \n",
    "            display(board)\n",
    "            place_marker2()\n",
    "\n",
    "        if game_win(board):\n",
    "            display(board)\n",
    "                \n",
    "            print('Player 2 is the WINNER!')\n",
    "            game_on = False\n",
    "\n",
    "        else:           \n",
    "            if board_check(board):\n",
    "                display(board)\n",
    "                    \n",
    "                print('Its a draw! GAME OVER!')\n",
    "            else:\n",
    "                turn = 'Player 1'\n",
    "                \n",
    "    if not replay():\n",
    "        clear_output()\n",
    "        print('Thanks for playing!')\n",
    "        break\n",
    "    else:\n",
    "        continue\n",
    "\n",
    "\n"
   ]
  },
  {
   "cell_type": "code",
   "execution_count": null,
   "metadata": {},
   "outputs": [],
   "source": [
    "clear_output()"
   ]
  },
  {
   "cell_type": "code",
   "execution_count": null,
   "metadata": {},
   "outputs": [
    {
     "name": "stdout",
     "output_type": "stream",
     "text": [
      "[ X ][ O ][ X ]\n",
      "[ O ][ X ][ O ]\n",
      "[ X ][   ][   ]\n"
     ]
    }
   ],
   "source": [
    "display(board)"
   ]
  },
  {
   "cell_type": "code",
   "execution_count": null,
   "metadata": {},
   "outputs": [
    {
     "data": {
      "text/plain": [
       "<function __main__.player_selection()>"
      ]
     },
     "execution_count": 12,
     "metadata": {},
     "output_type": "execute_result"
    }
   ],
   "source": [
    "player_selection"
   ]
  },
  {
   "cell_type": "code",
   "execution_count": null,
   "metadata": {},
   "outputs": [],
   "source": [
    "def player_selection():\n",
    "    marker = ''\n",
    "\n",
    "    while marker != 'X' and marker != 'O':\n",
    "        marker = input ('Player 1, choose X or O:')\n",
    "        print(marker)\n",
    "        if marker == 'X':\n",
    "            player1 = 'X'\n",
    "        else:\n",
    "            player2 = 'O'\n",
    "                \n",
    "    return (player1,player2)\n"
   ]
  },
  {
   "cell_type": "code",
   "execution_count": null,
   "metadata": {},
   "outputs": [
    {
     "name": "stdout",
     "output_type": "stream",
     "text": [
      "O\n"
     ]
    },
    {
     "ename": "UnboundLocalError",
     "evalue": "local variable 'player1' referenced before assignment",
     "output_type": "error",
     "traceback": [
      "\u001b[1;31m---------------------------------------------------------------------------\u001b[0m",
      "\u001b[1;31mUnboundLocalError\u001b[0m                         Traceback (most recent call last)",
      "\u001b[1;32m<ipython-input-82-684f32579461>\u001b[0m in \u001b[0;36m<module>\u001b[1;34m\u001b[0m\n\u001b[1;32m----> 1\u001b[1;33m \u001b[0mplayer_selection\u001b[0m\u001b[1;33m(\u001b[0m\u001b[1;33m)\u001b[0m\u001b[1;33m\u001b[0m\u001b[1;33m\u001b[0m\u001b[0m\n\u001b[0m",
      "\u001b[1;32m<ipython-input-81-2b0a02c9a354>\u001b[0m in \u001b[0;36mplayer_selection\u001b[1;34m()\u001b[0m\n\u001b[0;32m     10\u001b[0m             \u001b[0mplayer2\u001b[0m \u001b[1;33m=\u001b[0m \u001b[1;34m'O'\u001b[0m\u001b[1;33m\u001b[0m\u001b[1;33m\u001b[0m\u001b[0m\n\u001b[0;32m     11\u001b[0m \u001b[1;33m\u001b[0m\u001b[0m\n\u001b[1;32m---> 12\u001b[1;33m     \u001b[1;32mreturn\u001b[0m \u001b[1;33m(\u001b[0m\u001b[0mplayer1\u001b[0m\u001b[1;33m,\u001b[0m\u001b[0mplayer2\u001b[0m\u001b[1;33m)\u001b[0m\u001b[1;33m\u001b[0m\u001b[1;33m\u001b[0m\u001b[0m\n\u001b[0m",
      "\u001b[1;31mUnboundLocalError\u001b[0m: local variable 'player1' referenced before assignment"
     ]
    }
   ],
   "source": [
    "player_selection()"
   ]
  },
  {
   "cell_type": "code",
   "execution_count": null,
   "metadata": {},
   "outputs": [],
   "source": []
  }
 ],
 "metadata": {
  "interpreter": {
   "hash": "0f941ce24081e27d29fe825b4677fc955a82211890bd8dd12500b5500b9e4ea7"
  },
  "kernelspec": {
   "display_name": "Python 3.9.6 64-bit",
   "name": "python3"
  },
  "language_info": {
   "codemirror_mode": {
    "name": "ipython",
    "version": 3
   },
   "file_extension": ".py",
   "mimetype": "text/x-python",
   "name": "python",
   "nbconvert_exporter": "python",
   "pygments_lexer": "ipython3",
   "version": "3.9.6"
  },
  "orig_nbformat": 4
 },
 "nbformat": 4,
 "nbformat_minor": 2
}
